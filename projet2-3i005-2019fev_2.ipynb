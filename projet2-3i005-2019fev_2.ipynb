{
 "cells": [
  {
   "cell_type": "markdown",
   "metadata": {},
   "source": [
    "# 3i005 - projet 2 - 2019fev <em>Version semaine 2</em>\n",
    "# CLASSIFICATIONS PROBABILISTES\n",
    "\n",
    "\n",
    "Le but de ce projet est d'étudier les méthodes de classifications auxquelles les statistiques donnent accès naturellement. Il s'agira donc d'étudier les outils de classifications probabilistes. C'est bien évidemment une petite partie de l'ensemble des méthodes de classification existant.\n",
    "\n",
    "### Evaluation du projet\n",
    "L'ensemble des codes que vous réaliserez seront accessible à partir du ficher `projet.py`.  L'évaluation de votre code se fera à l'aide de données autres que celles du projet dans un programme qui commencera par importer votre `projet.py`. **il faudra donc une vigilance particulière à respecter les noms et la signature des classes, fonctions et méthodes ! Le code dans ce notebook ne doit pas être modifié, votre code dans `projet.py` doit permettre d'exécuter ce notebook et d'avoir les mêmes résultats que ceux de la version originale**.\n",
    "\n",
    "Si des questions méritent des réponses ouvertes, ces réponses seront insérées dans ce notebook dans une cellule immédiatement en dessous de celle contenant la question et nulle part ailleurs (la cellule existe et contient le texte `(votre réponse ici)`).\n",
    "\n",
    "**WARNING**: le notebook n'est pas statique et évoluera avec des questions supplémentaires durant le projet. Ne répondez donc pas directement aux questions ouvertes dans le notebook qui sera à écraser chaque semaine avec la nouvelle version (incrémentale). Répondez temporairement dans un fichier à part (par exemple dans des copies du notebook). Vous compléterez le notebook à la fin de la troisième semaine avant le rendu final.\n",
    "\n",
    "Une attention soutenue sera demandée à la documentation de votre code et à sa qualité ainsi qu'à la qualité des réponses ouvertes dans ce notebook.\n",
    "\n",
    "\n",
    "### Base utilisé : heart disease (Cleveland database)\n",
    "\n",
    "        This database contains 76 attributes, but all published experiments refer to using a subset of 14 of them. In particular, the Cleveland database is the only one that has been used by ML researchers to this date. \n",
    "        The `target` field refers to the presence of heart disease in the patient. It is integer valued from 0 (no presence) to 4. Experiments with the Cleveland database have concentrated on simply attempting to distinguish presence (values 1) from absence (value 0). \n",
    "\n",
    "| champs | definition |\n",
    "|--------|------------|\n",
    "|age|  age in years| \n",
    "|sex| (1 = male; 0 = female)| \n",
    "|cp|  chest pain type| \n",
    "|trestbps| resting blood pressure (in mm Hg on admission to the hospital)| \n",
    "|chol| serum cholestoral in mg/dl| \n",
    "|fbs| (fasting blood sugar > 120 mg/dl) (1 = true; 0 = false)| \n",
    "|restecg| resting electrocardiographic results| \n",
    "|thalach| maximum heart rate achieved| \n",
    "|exang| exercise induced angina (1 = yes; 0 = no)| \n",
    "|oldpeak| ST depression induced by exercise relative to rest| \n",
    "|slope|the slope of the peak exercise ST segment| \n",
    "|ca| number of major vessels (0-3) colored by flourosopy| \n",
    "|thal|3 = normal; 6 = fixed defect; 7 = reversable defect| \n",
    "|target| 1 or 0 | \n",
    "\n",
    "Notre but est donc de proposer des classifieurs qui tentent de prédire la valeur de `target` à partir des autres champs en utilisant des arguments probabilistes.\n",
    "\n",
    "## Simplification de la base (prélude au projet)"
   ]
  },
  {
   "cell_type": "code",
   "execution_count": 1,
   "metadata": {
    "ExecuteTime": {
     "end_time": "2019-03-06T13:49:39.478871Z",
     "start_time": "2019-03-06T13:49:39.190294Z"
    }
   },
   "outputs": [],
   "source": [
    "import pandas as pd # package for high-performance, easy-to-use data structures and data analysis\n",
    "import numpy as np # fundamental package for scientific computing with Python"
   ]
  },
  {
   "cell_type": "code",
   "execution_count": 2,
   "metadata": {
    "ExecuteTime": {
     "end_time": "2019-03-06T13:49:39.838274Z",
     "start_time": "2019-03-06T13:49:39.481889Z"
    },
    "scrolled": true
   },
   "outputs": [],
   "source": [
    "# to allow autoreload of projet.py\n",
    "%load_ext autoreload\n",
    "%autoreload 2\n",
    "\n",
    "import utils # deux fonctions dans le fichier utils.py\n",
    "import projet # votre code"
   ]
  },
  {
   "cell_type": "code",
   "execution_count": 3,
   "metadata": {
    "ExecuteTime": {
     "end_time": "2019-03-06T13:49:39.873505Z",
     "start_time": "2019-03-06T13:49:39.840724Z"
    }
   },
   "outputs": [
    {
     "data": {
      "text/html": [
       "<div>\n",
       "<style scoped>\n",
       "    .dataframe tbody tr th:only-of-type {\n",
       "        vertical-align: middle;\n",
       "    }\n",
       "\n",
       "    .dataframe tbody tr th {\n",
       "        vertical-align: top;\n",
       "    }\n",
       "\n",
       "    .dataframe thead th {\n",
       "        text-align: right;\n",
       "    }\n",
       "</style>\n",
       "<table border=\"1\" class=\"dataframe\">\n",
       "  <thead>\n",
       "    <tr style=\"text-align: right;\">\n",
       "      <th></th>\n",
       "      <th>age</th>\n",
       "      <th>sex</th>\n",
       "      <th>cp</th>\n",
       "      <th>trestbps</th>\n",
       "      <th>chol</th>\n",
       "      <th>fbs</th>\n",
       "      <th>restecg</th>\n",
       "      <th>thalach</th>\n",
       "      <th>exang</th>\n",
       "      <th>oldpeak</th>\n",
       "      <th>slope</th>\n",
       "      <th>ca</th>\n",
       "      <th>thal</th>\n",
       "      <th>target</th>\n",
       "    </tr>\n",
       "  </thead>\n",
       "  <tbody>\n",
       "    <tr>\n",
       "      <th>0</th>\n",
       "      <td>63</td>\n",
       "      <td>1</td>\n",
       "      <td>3</td>\n",
       "      <td>145</td>\n",
       "      <td>233</td>\n",
       "      <td>1</td>\n",
       "      <td>0</td>\n",
       "      <td>150</td>\n",
       "      <td>0</td>\n",
       "      <td>2.3</td>\n",
       "      <td>0</td>\n",
       "      <td>0</td>\n",
       "      <td>1</td>\n",
       "      <td>1</td>\n",
       "    </tr>\n",
       "    <tr>\n",
       "      <th>1</th>\n",
       "      <td>37</td>\n",
       "      <td>1</td>\n",
       "      <td>2</td>\n",
       "      <td>130</td>\n",
       "      <td>250</td>\n",
       "      <td>0</td>\n",
       "      <td>1</td>\n",
       "      <td>187</td>\n",
       "      <td>0</td>\n",
       "      <td>3.5</td>\n",
       "      <td>0</td>\n",
       "      <td>0</td>\n",
       "      <td>2</td>\n",
       "      <td>1</td>\n",
       "    </tr>\n",
       "    <tr>\n",
       "      <th>2</th>\n",
       "      <td>41</td>\n",
       "      <td>0</td>\n",
       "      <td>1</td>\n",
       "      <td>130</td>\n",
       "      <td>204</td>\n",
       "      <td>0</td>\n",
       "      <td>0</td>\n",
       "      <td>172</td>\n",
       "      <td>0</td>\n",
       "      <td>1.4</td>\n",
       "      <td>2</td>\n",
       "      <td>0</td>\n",
       "      <td>2</td>\n",
       "      <td>1</td>\n",
       "    </tr>\n",
       "    <tr>\n",
       "      <th>3</th>\n",
       "      <td>56</td>\n",
       "      <td>1</td>\n",
       "      <td>1</td>\n",
       "      <td>120</td>\n",
       "      <td>236</td>\n",
       "      <td>0</td>\n",
       "      <td>1</td>\n",
       "      <td>178</td>\n",
       "      <td>0</td>\n",
       "      <td>0.8</td>\n",
       "      <td>2</td>\n",
       "      <td>0</td>\n",
       "      <td>2</td>\n",
       "      <td>1</td>\n",
       "    </tr>\n",
       "    <tr>\n",
       "      <th>4</th>\n",
       "      <td>57</td>\n",
       "      <td>0</td>\n",
       "      <td>0</td>\n",
       "      <td>120</td>\n",
       "      <td>354</td>\n",
       "      <td>0</td>\n",
       "      <td>1</td>\n",
       "      <td>163</td>\n",
       "      <td>1</td>\n",
       "      <td>0.6</td>\n",
       "      <td>2</td>\n",
       "      <td>0</td>\n",
       "      <td>2</td>\n",
       "      <td>1</td>\n",
       "    </tr>\n",
       "  </tbody>\n",
       "</table>\n",
       "</div>"
      ],
      "text/plain": [
       "   age  sex  cp  trestbps  chol  fbs  restecg  thalach  exang  oldpeak  slope  \\\n",
       "0   63    1   3       145   233    1        0      150      0      2.3      0   \n",
       "1   37    1   2       130   250    0        1      187      0      3.5      0   \n",
       "2   41    0   1       130   204    0        0      172      0      1.4      2   \n",
       "3   56    1   1       120   236    0        1      178      0      0.8      2   \n",
       "4   57    0   0       120   354    0        1      163      1      0.6      2   \n",
       "\n",
       "   ca  thal  target  \n",
       "0   0     1       1  \n",
       "1   0     2       1  \n",
       "2   0     2       1  \n",
       "3   0     2       1  \n",
       "4   0     2       1  "
      ]
     },
     "execution_count": 3,
     "metadata": {},
     "output_type": "execute_result"
    }
   ],
   "source": [
    "data=pd.read_csv(\"heart.csv\")\n",
    "data.head()"
   ]
  },
  {
   "cell_type": "code",
   "execution_count": 4,
   "metadata": {
    "ExecuteTime": {
     "end_time": "2019-03-06T13:49:41.638991Z",
     "start_time": "2019-03-06T13:49:39.875184Z"
    },
    "scrolled": false
   },
   "outputs": [
    {
     "name": "stderr",
     "output_type": "stream",
     "text": [
      "/home/kali/anaconda3/lib/python3.7/site-packages/scipy/stats/stats.py:1713: FutureWarning: Using a non-tuple sequence for multidimensional indexing is deprecated; use `arr[tuple(seq)]` instead of `arr[seq]`. In the future this will be interpreted as an array index, `arr[np.array(seq)]`, which will result either in an error or a different result.\n",
      "  return np.add.reduce(sorted[indexer] * weights, axis=axis) / sumval\n"
     ]
    },
    {
     "data": {
      "image/png": "[encoded data removed]",
      "text/plain": [
       "<Figure size 1152x576 with 14 Axes>"
      ]
     },
     "metadata": {
      "needs_background": "light"
     },
     "output_type": "display_data"
    }
   ],
   "source": [
    "utils.viewData(data)"
   ]
  },
  {
   "cell_type": "markdown",
   "metadata": {},
   "source": [
    "Certaines variabless comme `age`, `thalach`, etc. possèdent un grand nombre de modalités, rendant difficile le traitement. Nous simplifions donc la base en discrétisant au mieux toutes les variables qui ont plus de 5 valeurs."
   ]
  },
  {
   "cell_type": "code",
   "execution_count": 5,
   "metadata": {
    "ExecuteTime": {
     "end_time": "2019-03-06T13:49:43.828044Z",
     "start_time": "2019-03-06T13:49:41.641226Z"
    }
   },
   "outputs": [
    {
     "ename": "TypeError",
     "evalue": "unhashable type: 'numpy.ndarray'",
     "output_type": "error",
     "traceback": [
      "\u001b[0;31m---------------------------------------------------------------------------\u001b[0m",
      "\u001b[0;31mTypeError\u001b[0m                                 Traceback (most recent call last)",
      "\u001b[0;32m<ipython-input-5-fc024fbf955d>\u001b[0m in \u001b[0;36m<module>\u001b[0;34m\u001b[0m\n\u001b[1;32m      1\u001b[0m \u001b[0mdiscretise\u001b[0m\u001b[0;34m=\u001b[0m\u001b[0mutils\u001b[0m\u001b[0;34m.\u001b[0m\u001b[0mdiscretizeData\u001b[0m\u001b[0;34m(\u001b[0m\u001b[0mdata\u001b[0m\u001b[0;34m)\u001b[0m\u001b[0;34m\u001b[0m\u001b[0;34m\u001b[0m\u001b[0m\n\u001b[0;32m----> 2\u001b[0;31m \u001b[0mutils\u001b[0m\u001b[0;34m.\u001b[0m\u001b[0mviewData\u001b[0m\u001b[0;34m(\u001b[0m\u001b[0mdiscretise\u001b[0m\u001b[0;34m,\u001b[0m\u001b[0mkde\u001b[0m\u001b[0;34m=\u001b[0m\u001b[0;32mFalse\u001b[0m\u001b[0;34m)\u001b[0m\u001b[0;34m\u001b[0m\u001b[0;34m\u001b[0m\u001b[0m\n\u001b[0m",
      "\u001b[0;32m~/Documents/3I005/projets-3I005/projet 2/utils.py\u001b[0m in \u001b[0;36mviewData\u001b[0;34m(data, kde)\u001b[0m\n\u001b[1;32m     31\u001b[0m   \u001b[0;32mfor\u001b[0m \u001b[0mi\u001b[0m\u001b[0;34m,\u001b[0m \u001b[0mk\u001b[0m \u001b[0;32min\u001b[0m \u001b[0menumerate\u001b[0m\u001b[0;34m(\u001b[0m\u001b[0mdata\u001b[0m\u001b[0;34m.\u001b[0m\u001b[0mkeys\u001b[0m\u001b[0;34m(\u001b[0m\u001b[0;34m)\u001b[0m\u001b[0;34m)\u001b[0m\u001b[0;34m:\u001b[0m\u001b[0;34m\u001b[0m\u001b[0;34m\u001b[0m\u001b[0m\n\u001b[1;32m     32\u001b[0m     \u001b[0max\u001b[0m \u001b[0;34m=\u001b[0m \u001b[0mplt\u001b[0m\u001b[0;34m.\u001b[0m\u001b[0msubplot\u001b[0m\u001b[0;34m(\u001b[0m\u001b[0mx\u001b[0m\u001b[0;34m,\u001b[0m \u001b[0my\u001b[0m\u001b[0;34m,\u001b[0m \u001b[0mi\u001b[0m \u001b[0;34m+\u001b[0m \u001b[0;36m1\u001b[0m\u001b[0;34m,\u001b[0m \u001b[0mxticklabels\u001b[0m\u001b[0;34m=\u001b[0m\u001b[0;34m[\u001b[0m\u001b[0;34m]\u001b[0m\u001b[0;34m)\u001b[0m\u001b[0;34m\u001b[0m\u001b[0;34m\u001b[0m\u001b[0m\n\u001b[0;32m---> 33\u001b[0;31m     \u001b[0max\u001b[0m\u001b[0;34m.\u001b[0m\u001b[0mset_title\u001b[0m\u001b[0;34m(\u001b[0m\u001b[0;34m\"Distribution of '{0}': {1} in [{2},{3}]\"\u001b[0m\u001b[0;34m.\u001b[0m\u001b[0mformat\u001b[0m\u001b[0;34m(\u001b[0m\u001b[0mk\u001b[0m\u001b[0;34m,\u001b[0m \u001b[0mlen\u001b[0m\u001b[0;34m(\u001b[0m\u001b[0mdata\u001b[0m\u001b[0;34m[\u001b[0m\u001b[0mk\u001b[0m\u001b[0;34m]\u001b[0m\u001b[0;34m.\u001b[0m\u001b[0munique\u001b[0m\u001b[0;34m(\u001b[0m\u001b[0;34m)\u001b[0m\u001b[0;34m)\u001b[0m\u001b[0;34m,\u001b[0m \u001b[0mdata\u001b[0m\u001b[0;34m[\u001b[0m\u001b[0mk\u001b[0m\u001b[0;34m]\u001b[0m\u001b[0;34m.\u001b[0m\u001b[0mmin\u001b[0m\u001b[0;34m(\u001b[0m\u001b[0;34m)\u001b[0m\u001b[0;34m,\u001b[0m \u001b[0mdata\u001b[0m\u001b[0;34m[\u001b[0m\u001b[0mk\u001b[0m\u001b[0;34m]\u001b[0m\u001b[0;34m.\u001b[0m\u001b[0mmax\u001b[0m\u001b[0;34m(\u001b[0m\u001b[0;34m)\u001b[0m\u001b[0;34m)\u001b[0m\u001b[0;34m)\u001b[0m\u001b[0;34m\u001b[0m\u001b[0;34m\u001b[0m\u001b[0m\n\u001b[0m\u001b[1;32m     34\u001b[0m     \u001b[0max\u001b[0m \u001b[0;34m=\u001b[0m \u001b[0msns\u001b[0m\u001b[0;34m.\u001b[0m\u001b[0mdistplot\u001b[0m\u001b[0;34m(\u001b[0m\u001b[0mdata\u001b[0m\u001b[0;34m[\u001b[0m\u001b[0mk\u001b[0m\u001b[0;34m]\u001b[0m\u001b[0;34m,\u001b[0m \u001b[0mkde\u001b[0m\u001b[0;34m=\u001b[0m\u001b[0mkde\u001b[0m \u001b[0;32mand\u001b[0m \u001b[0mlen\u001b[0m\u001b[0;34m(\u001b[0m\u001b[0mdata\u001b[0m\u001b[0;34m[\u001b[0m\u001b[0mk\u001b[0m\u001b[0;34m]\u001b[0m\u001b[0;34m.\u001b[0m\u001b[0munique\u001b[0m\u001b[0;34m(\u001b[0m\u001b[0;34m)\u001b[0m\u001b[0;34m)\u001b[0m \u001b[0;34m>\u001b[0m \u001b[0;36m5\u001b[0m\u001b[0;34m)\u001b[0m\u001b[0;34m\u001b[0m\u001b[0;34m\u001b[0m\u001b[0m\n\u001b[1;32m     35\u001b[0m     \u001b[0max\u001b[0m\u001b[0;34m.\u001b[0m\u001b[0mset_xlabel\u001b[0m\u001b[0;34m(\u001b[0m\u001b[0;34m\"\"\u001b[0m\u001b[0;34m)\u001b[0m\u001b[0;34m\u001b[0m\u001b[0;34m\u001b[0m\u001b[0m\n",
      "\u001b[0;32m~/anaconda3/lib/python3.7/site-packages/pandas/core/series.py\u001b[0m in \u001b[0;36munique\u001b[0;34m(self)\u001b[0m\n\u001b[1;32m   1491\u001b[0m         \u001b[0mCategories\u001b[0m \u001b[0;34m(\u001b[0m\u001b[0;36m3\u001b[0m\u001b[0;34m,\u001b[0m \u001b[0mobject\u001b[0m\u001b[0;34m)\u001b[0m\u001b[0;34m:\u001b[0m \u001b[0;34m[\u001b[0m\u001b[0ma\u001b[0m \u001b[0;34m<\u001b[0m \u001b[0mb\u001b[0m \u001b[0;34m<\u001b[0m \u001b[0mc\u001b[0m\u001b[0;34m]\u001b[0m\u001b[0;34m\u001b[0m\u001b[0;34m\u001b[0m\u001b[0m\n\u001b[1;32m   1492\u001b[0m         \"\"\"\n\u001b[0;32m-> 1493\u001b[0;31m         \u001b[0mresult\u001b[0m \u001b[0;34m=\u001b[0m \u001b[0msuper\u001b[0m\u001b[0;34m(\u001b[0m\u001b[0mSeries\u001b[0m\u001b[0;34m,\u001b[0m \u001b[0mself\u001b[0m\u001b[0;34m)\u001b[0m\u001b[0;34m.\u001b[0m\u001b[0munique\u001b[0m\u001b[0;34m(\u001b[0m\u001b[0;34m)\u001b[0m\u001b[0;34m\u001b[0m\u001b[0;34m\u001b[0m\u001b[0m\n\u001b[0m\u001b[1;32m   1494\u001b[0m \u001b[0;34m\u001b[0m\u001b[0m\n\u001b[1;32m   1495\u001b[0m         \u001b[0;32mif\u001b[0m \u001b[0mis_datetime64tz_dtype\u001b[0m\u001b[0;34m(\u001b[0m\u001b[0mself\u001b[0m\u001b[0;34m.\u001b[0m\u001b[0mdtype\u001b[0m\u001b[0;34m)\u001b[0m\u001b[0;34m:\u001b[0m\u001b[0;34m\u001b[0m\u001b[0;34m\u001b[0m\u001b[0m\n",
      "\u001b[0;32m~/anaconda3/lib/python3.7/site-packages/pandas/core/base.py\u001b[0m in \u001b[0;36munique\u001b[0;34m(self)\u001b[0m\n\u001b[1;32m   1047\u001b[0m         \u001b[0;32melse\u001b[0m\u001b[0;34m:\u001b[0m\u001b[0;34m\u001b[0m\u001b[0;34m\u001b[0m\u001b[0m\n\u001b[1;32m   1048\u001b[0m             \u001b[0;32mfrom\u001b[0m \u001b[0mpandas\u001b[0m\u001b[0;34m.\u001b[0m\u001b[0mcore\u001b[0m\u001b[0;34m.\u001b[0m\u001b[0malgorithms\u001b[0m \u001b[0;32mimport\u001b[0m \u001b[0munique1d\u001b[0m\u001b[0;34m\u001b[0m\u001b[0;34m\u001b[0m\u001b[0m\n\u001b[0;32m-> 1049\u001b[0;31m             \u001b[0mresult\u001b[0m \u001b[0;34m=\u001b[0m \u001b[0munique1d\u001b[0m\u001b[0;34m(\u001b[0m\u001b[0mvalues\u001b[0m\u001b[0;34m)\u001b[0m\u001b[0;34m\u001b[0m\u001b[0;34m\u001b[0m\u001b[0m\n\u001b[0m\u001b[1;32m   1050\u001b[0m \u001b[0;34m\u001b[0m\u001b[0m\n\u001b[1;32m   1051\u001b[0m         \u001b[0;32mreturn\u001b[0m \u001b[0mresult\u001b[0m\u001b[0;34m\u001b[0m\u001b[0;34m\u001b[0m\u001b[0m\n",
      "\u001b[0;32m~/anaconda3/lib/python3.7/site-packages/pandas/core/algorithms.py\u001b[0m in \u001b[0;36munique\u001b[0;34m(values)\u001b[0m\n\u001b[1;32m    366\u001b[0m \u001b[0;34m\u001b[0m\u001b[0m\n\u001b[1;32m    367\u001b[0m     \u001b[0mtable\u001b[0m \u001b[0;34m=\u001b[0m \u001b[0mhtable\u001b[0m\u001b[0;34m(\u001b[0m\u001b[0mlen\u001b[0m\u001b[0;34m(\u001b[0m\u001b[0mvalues\u001b[0m\u001b[0;34m)\u001b[0m\u001b[0;34m)\u001b[0m\u001b[0;34m\u001b[0m\u001b[0;34m\u001b[0m\u001b[0m\n\u001b[0;32m--> 368\u001b[0;31m     \u001b[0muniques\u001b[0m \u001b[0;34m=\u001b[0m \u001b[0mtable\u001b[0m\u001b[0;34m.\u001b[0m\u001b[0munique\u001b[0m\u001b[0;34m(\u001b[0m\u001b[0mvalues\u001b[0m\u001b[0;34m)\u001b[0m\u001b[0;34m\u001b[0m\u001b[0;34m\u001b[0m\u001b[0m\n\u001b[0m\u001b[1;32m    369\u001b[0m     \u001b[0muniques\u001b[0m \u001b[0;34m=\u001b[0m \u001b[0m_reconstruct_data\u001b[0m\u001b[0;34m(\u001b[0m\u001b[0muniques\u001b[0m\u001b[0;34m,\u001b[0m \u001b[0mdtype\u001b[0m\u001b[0;34m,\u001b[0m \u001b[0moriginal\u001b[0m\u001b[0;34m)\u001b[0m\u001b[0;34m\u001b[0m\u001b[0;34m\u001b[0m\u001b[0m\n\u001b[1;32m    370\u001b[0m \u001b[0;34m\u001b[0m\u001b[0m\n",
      "\u001b[0;32mpandas/_libs/hashtable_class_helper.pxi\u001b[0m in \u001b[0;36mpandas._libs.hashtable.PyObjectHashTable.unique\u001b[0;34m()\u001b[0m\n",
      "\u001b[0;31mTypeError\u001b[0m: unhashable type: 'numpy.ndarray'"
     ]
    },
    {
     "data": {
      "image/png": "[encoded data removed]",
      "text/plain": [
       "<Figure size 1152x576 with 1 Axes>"
      ]
     },
     "metadata": {
      "needs_background": "light"
     },
     "output_type": "display_data"
    }
   ],
   "source": [
    "discretise=utils.discretizeData(data)\n",
    "utils.viewData(discretise,kde=False)"
   ]
  },
  {
   "cell_type": "markdown",
   "metadata": {},
   "source": [
    "Nous utilisons maintenant 2 fichiers csv préparés à partir de cette base afin de rendre les résultats plus intéressants (en particulier, les 2 classes sont un peu plus déséquilibrées)."
   ]
  },
  {
   "cell_type": "code",
   "execution_count": 6,
   "metadata": {
    "ExecuteTime": {
     "end_time": "2019-03-06T13:49:45.581893Z",
     "start_time": "2019-03-06T13:49:43.831634Z"
    },
    "scrolled": false
   },
   "outputs": [
    {
     "data": {
      "image/png": "[encoded data removed]",
      "text/plain": [
       "<Figure size 1152x576 with 14 Axes>"
      ]
     },
     "metadata": {
      "needs_background": "light"
     },
     "output_type": "display_data"
    }
   ],
   "source": [
    "train=pd.read_csv(\"train.csv\")\n",
    "test=pd.read_csv(\"test.csv\")\n",
    "utils.viewData(train,kde=False)   "
   ]
  },
  {
   "cell_type": "markdown",
   "metadata": {},
   "source": [
    "À partir de maintenant, nous utilisons le dataframe `train` qui contient les données pour l'apprentissage et `test` qui contient les données pour la validation.\n",
    "\n",
    "# Classification a priori\n",
    "\n",
    "## Question 1 \n",
    "Dans une fonction `getPrior`, calculer la probabilité a priori de la classe $1$ ainsi que l'intervalle de confiance à 95% pour l'estimation de cette probabilité."
   ]
  },
  {
   "cell_type": "code",
   "execution_count": 7,
   "metadata": {
    "ExecuteTime": {
     "end_time": "2019-03-06T13:49:45.610475Z",
     "start_time": "2019-03-06T13:49:45.583693Z"
    }
   },
   "outputs": [
    {
     "data": {
      "text/plain": [
       "{'estimation': 0.7453874538745388,\n",
       " 'min5pourcent': 0.7087109975695709,\n",
       " 'max5pourcent': 0.7820639101795066}"
      ]
     },
     "execution_count": 7,
     "metadata": {},
     "output_type": "execute_result"
    }
   ],
   "source": [
    "projet.getPrior(train) # ou project.getPrior(\"train.csv\")"
   ]
  },
  {
   "cell_type": "markdown",
   "metadata": {},
   "source": [
    "## Question 2"
   ]
  },
  {
   "cell_type": "markdown",
   "metadata": {},
   "source": [
    "On propose une classe permettant de représenter un classifieur. Un classifieur répond à une question principale : étant donné un individu, connu par ses attributs, quelle est sa classe ?\n",
    "Nous proposons donc une classe simple qu'il s'agira d'améliorer : `AbstractClassifier` dans le fichier `utils.py` \n",
    "\n",
    "### Question 2a\n",
    "Ecrire dans `projet.py` un classifieur `APrioriClassifier` (enfant de `AbstractClassifier`) qui utilise le résultat de la question 1 pour estimer très simplement la classe de chaque individu par la classe majoritaire.  "
   ]
  },
  {
   "cell_type": "code",
   "execution_count": 8,
   "metadata": {
    "ExecuteTime": {
     "end_time": "2019-03-06T13:49:45.633030Z",
     "start_time": "2019-03-06T13:49:45.614220Z"
    }
   },
   "outputs": [],
   "source": [
    "cl=projet.APrioriClassifier()\n",
    "clpredite=cl.estimClass(None) # n'importe quoi donne la même classe pour un classifieur a priori \n",
    "# la valeur prédite n'est pas affichée sciemment"
   ]
  },
  {
   "cell_type": "markdown",
   "metadata": {},
   "source": [
    "<div style=\"float:right;margin:0 10px 10px 0\">\n",
    "    <img src=\"PrecisionRappel.png\">\n",
    "</div>\n",
    "\n",
    "### Question 2b : évaluation de classifieurs\n",
    "\n",
    "Implémenter également la méthode `statsOnDF` qui rendra les valeurs suivantes :\n",
    "\n",
    "- VP : nombre d'individus avec target=1 et classe prévue=1\n",
    "- VN : nombre d'individus avec target=0 et classe prévue=0\n",
    "- FP : nombre d'individus avec target=0 et classe prévue=1\n",
    "- FN : nombre d'individus avec target=1 et classe prévue=0\n",
    "- précision \n",
    "- rappel\n",
    "\n",
    "\n",
    "- <i>Petite aide : comment itérer sur un dataframe</i>\n",
    "\n",
    "`for t in train.itertuples():\n",
    "    dic=t._asdict()\n",
    "    print(\"ca={} oldpeak={} target={}\".format(dic['ca'],dic['oldpeak'],dic['target']))\n",
    "`\n",
    "\n",
    "- <i>Par ailleurs, dans utils, il y a une fonction `getNthDict(df,n)` qui rend le dictionnaire des attributs de la $n$ième ligne dans `df`.</i>\n",
    "    \n",
    "`\n",
    "getNthDict(train,0)\n",
    "{'age': 9, 'sex': 1, 'cp': 3, 'trestbps': 9, 'chol': 6, 'fbs': 1, 'restecg': 0, 'thalach': 9, 'exang': 0, 'oldpeak': 6, 'slope': 0, 'ca': 0, 'thal': 1, 'target': 1}\n",
    "`"
   ]
  },
  {
   "cell_type": "code",
   "execution_count": 9,
   "metadata": {
    "ExecuteTime": {
     "end_time": "2019-03-06T13:49:45.754311Z",
     "start_time": "2019-03-06T13:49:45.636326Z"
    }
   },
   "outputs": [
    {
     "name": "stdout",
     "output_type": "stream",
     "text": [
      "test en apprentissage : {'VP': 404, 'VN': 0, 'FP': 138, 'FN': 0, 'rappel': 1.0, 'précision': 0.7453874538745388}\n",
      "test en validation: {'VP': 138, 'VN': 0, 'FP': 62, 'FN': 0, 'rappel': 1.0, 'précision': 0.69}\n"
     ]
    }
   ],
   "source": [
    "cl=projet.APrioriClassifier()\n",
    "print(\"test en apprentissage : {}\".format(cl.statsOnDF(train)))\n",
    "print(\"test en validation: {}\".format(cl.statsOnDF(test)))"
   ]
  },
  {
   "cell_type": "markdown",
   "metadata": {},
   "source": [
    "## Question 3 : classification probabiliste à 2 dimensions\n",
    "\n",
    "La classification a priori ne donne pas d'excellents résultats puiqu'elle se contente de la règle majoritaire. On se propose donc maintenant essayer d'enrichir notre processus de décision en tenant compte d'une caractéristique de la base de données.\n",
    "\n",
    "### Question 3.a : probabilités conditionelles\n",
    "\n",
    "Écrire une fonction `P2D_l(df,attr)` qui calcule dans le dataframe la probabilité $P(attr|target)$ sous la forme d'un dictionnaire asssociant à la valeur $t$ un dictionnaire associant à la valeur $a$ la probabilité $P(attr=a|target=t)$."
   ]
  },
  {
   "cell_type": "code",
   "execution_count": 10,
   "metadata": {
    "ExecuteTime": {
     "end_time": "2019-03-06T13:49:45.786915Z",
     "start_time": "2019-03-06T13:49:45.756196Z"
    }
   },
   "outputs": [
    {
     "data": {
      "text/plain": [
       "{0: {0: 0.007246376811594203,\n",
       "  1: 0.08695652173913043,\n",
       "  2: 0.2608695652173913,\n",
       "  3: 0.644927536231884},\n",
       " 1: {0: 0.007425742574257425,\n",
       "  1: 0.03217821782178218,\n",
       "  2: 0.7821782178217822,\n",
       "  3: 0.1782178217821782}}"
      ]
     },
     "execution_count": 10,
     "metadata": {},
     "output_type": "execute_result"
    }
   ],
   "source": [
    "projet.P2D_l(train,'thal')"
   ]
  },
  {
   "cell_type": "markdown",
   "metadata": {},
   "source": [
    "Écrire une fonction `P2D_p(df,attr)` qui calcule dans le dataframe la probabilité $P(target|attr)$ sous la forme d'un dictionnaire associant à la valeur $a$ un dictionnaire asssociant à la valeur $t$ la probabilité $P(target=t|attr=a)$."
   ]
  },
  {
   "cell_type": "code",
   "execution_count": 11,
   "metadata": {
    "ExecuteTime": {
     "end_time": "2019-03-06T13:49:45.816959Z",
     "start_time": "2019-03-06T13:49:45.788612Z"
    }
   },
   "outputs": [
    {
     "data": {
      "text/plain": [
       "{1: {0: 0.48, 1: 0.52},\n",
       " 2: {0: 0.10227272727272728, 1: 0.8977272727272727},\n",
       " 3: {0: 0.5527950310559007, 1: 0.4472049689440994},\n",
       " 0: {0: 0.25, 1: 0.75}}"
      ]
     },
     "execution_count": 11,
     "metadata": {},
     "output_type": "execute_result"
    }
   ],
   "source": [
    "projet.P2D_p(train,'thal')"
   ]
  },
  {
   "cell_type": "markdown",
   "metadata": {},
   "source": [
    "### Question 3.b : classifieurs 2D par maximum de vraisemblance\n",
    "\n",
    "Supposons qu'un individu ait la valeur $a$ pour l'$attr$, un classifieur du type $P2D_l$ pourrrait donc utiliser  $P(attr=a|target=t)$ et sélectionner comme estimation de la classe de l'individu la valeur $t=0$ ou $t=1$ maximisant cette probabilité. $P(attr=a|target)$ est la vraisemblance d'observer $attr=a$ quand $target=0$ ou $target=1$. Un tel classifieur utilise donc le principe du **maximum de vraisemblance** (ML=Max Likelihood). \n",
    "\n",
    "Pour construire un tel classifieur, il faut initialiser l'attribut utilisé puis construire la table `P2Dl`. La fonction `estimClass` rendra la position du maximum trouvé dans cette table.\n",
    "\n",
    "\n",
    "> Supposons un individu dont $thal=3$, alors dans la table P2Dl, on trouve $0.178$ pour $target=1$ et $0.644$ pour $target=0$, la bonne classe d'après le critère du ML est donc $0$\n",
    "\n",
    "Écrire une classe `ML2DClassifier` qui utilise une telle procédure de maximum de vraisemblance pour estimer la classe d'un individu. Afin de ne pas avoir à réécrire la méthode `statsOnDF` qui ne devrait pas changer, `ML2DClassifier` aura pour parent la classe `APrioriClassifier`.\n",
    "\n",
    "**PS**- penser bien à calculer une seule fois la table `P2Dl` dans le constructeur de la classe afin de ne pas itérer sur toute la base à chaque fois que vous appelez la méthode `estimClass`.\n",
    "\n",
    "**PS2**- Dans les cas d'égalité des 2 probabilités, on choisira la classe 0."
   ]
  },
  {
   "cell_type": "code",
   "execution_count": 12,
   "metadata": {
    "ExecuteTime": {
     "end_time": "2019-03-06T13:49:45.852905Z",
     "start_time": "2019-03-06T13:49:45.818623Z"
    }
   },
   "outputs": [
    {
     "name": "stdout",
     "output_type": "stream",
     "text": [
      "Estimation de la classe de l'individu 0 par ML2DClassifier : 0\n",
      "Estimation de la classe de l'individu 1 par ML2DClassifier : 1\n",
      "Estimation de la classe de l'individu 2 par ML2DClassifier : 1\n"
     ]
    }
   ],
   "source": [
    "cl=projet.ML2DClassifier(train,\"thal\") # cette ligne appelle projet.P2Dl(train,\"thal\")\n",
    "for i in [0,1,2]:\n",
    "    print(\"Estimation de la classe de l'individu {} par ML2DClassifier : {}\".format(i,cl.estimClass(utils.getNthDict(train,i)))) "
   ]
  },
  {
   "cell_type": "code",
   "execution_count": 13,
   "metadata": {
    "ExecuteTime": {
     "end_time": "2019-03-06T13:49:45.878914Z",
     "start_time": "2019-03-06T13:49:45.855499Z"
    }
   },
   "outputs": [
    {
     "name": "stdout",
     "output_type": "stream",
     "text": [
      "test en apprentissage : {'VP': 319, 'VN': 101, 'FP': 37, 'FN': 85, 'rappel': 0.7896039603960396, 'précision': 0.8960674157303371}\n",
      "test en validation: {'VP': 113, 'VN': 48, 'FP': 14, 'FN': 25, 'rappel': 0.8188405797101449, 'précision': 0.889763779527559}\n"
     ]
    }
   ],
   "source": [
    "print(\"test en apprentissage : {}\".format(cl.statsOnDF(train)))\n",
    "print(\"test en validation: {}\".format(cl.statsOnDF(test)))"
   ]
  },
  {
   "cell_type": "markdown",
   "metadata": {},
   "source": [
    "### Question 3.c : classifieurs 2D par maximum a posteriori\n",
    "\n",
    "Supposons qu'un individu ait la valeur $a$ pour l'$attr$, un classifieur du type $P2D_p$ pourrrait donc utiliser  $P(target=t|attr=a)$ et sélectionner comme estimation de la classe de l'individu la valeur $t=0$ ou $t=1$ maximisant cette probabilité. $P(target|attr=a)$ est la distribution a posteriori de $target$ après avoir observé $attr=a$. Un tel classifieur utilise donc le principe du **maximum a posteriori** (MAP). \n",
    "\n",
    "Pour construire un tel classifieur, il faut initialiser l'attribut utilisé puis construire la table `P2Dp`. La fonction `estimClass` rendra la position du maximum trouvé dans cette table.\n",
    "\n",
    "> Supposons un individu dont $thal=3$, alors dans la table P2Dp, on trouve $0.447$ pour $target=1$ et $0.552$ pour $target=0$, la bonne classe d'après le critère du ML est donc $0$\n",
    "\n",
    "Écrire une classe `MAP2DClassifier` qui utilise une telle procédure de maximum de vraisemblance pour estimer la classe d'un individu. Afin de ne pas avoir à réécrire la méthode `statsOnDF` qui ne devrait pas changer, `MAP2DClassifier` héritera de `AprioriClassifier`.\n",
    "\n",
    "**PS**- penser bien à calculer une seule fois la table `P2Dp` dans le constructeur afin de ne pas itérer sur toute la base à chaque fois que vous appelez la méthode `estimClass`.\n",
    "\n",
    "**PS2**- Dans les cas d'égalité des 2 probabilités, on choisira la classe 0."
   ]
  },
  {
   "cell_type": "code",
   "execution_count": 14,
   "metadata": {
    "ExecuteTime": {
     "end_time": "2019-03-06T13:49:45.914566Z",
     "start_time": "2019-03-06T13:49:45.880939Z"
    }
   },
   "outputs": [
    {
     "name": "stdout",
     "output_type": "stream",
     "text": [
      "Estimation de la classe de l'individu 0 par MAP2DClasssifer) : 1\n",
      "Estimation de la classe de l'individu 1 par MAP2DClasssifer) : 1\n",
      "Estimation de la classe de l'individu 2 par MAP2DClasssifer) : 1\n"
     ]
    }
   ],
   "source": [
    "cl=projet.MAP2DClassifier(train,\"thal\") # cette ligne appelle projet.P2Dp(train,\"thal\")\n",
    "for i in [0,1,2]:\n",
    "    print(\"Estimation de la classe de l'individu {} par MAP2DClasssifer) : {}\".format(i,cl.estimClass(utils.getNthDict(train,i)))) "
   ]
  },
  {
   "cell_type": "code",
   "execution_count": 15,
   "metadata": {
    "ExecuteTime": {
     "end_time": "2019-03-06T13:49:45.940578Z",
     "start_time": "2019-03-06T13:49:45.917072Z"
    }
   },
   "outputs": [
    {
     "name": "stdout",
     "output_type": "stream",
     "text": [
      "test en apprentissage : {'VP': 332, 'VN': 89, 'FP': 49, 'FN': 72, 'rappel': 0.8217821782178217, 'précision': 0.8713910761154856}\n",
      "test en validation: {'VP': 114, 'VN': 43, 'FP': 19, 'FN': 24, 'rappel': 0.8260869565217391, 'précision': 0.8571428571428571}\n"
     ]
    }
   ],
   "source": [
    "print(\"test en apprentissage : {}\".format(cl.statsOnDF(train)))\n",
    "print(\"test en validation: {}\".format(cl.statsOnDF(test)))"
   ]
  },
  {
   "cell_type": "markdown",
   "metadata": {},
   "source": [
    "### Question 3.d - comparaison\n",
    "\n",
    "<div style=\"float:left;margin:0 10px 10px 0\">\n",
    "    <img src=\"question.png\">\n",
    "</div>\n",
    "Quelle classifieur préférez-vous en théorie entre `APrioriClassifier`, `ML2DClassifier` et `MAP2DClassifier` ? Quels résultats vous semble-les plus intéressants ?"
   ]
  },
  {
   "cell_type": "markdown",
   "metadata": {},
   "source": [
    "Comme on s'interesse au coût de la prédiction,il sera préferable de dire q'un patient est malade alors qu'il ne l'est pas ,que de dire qu'il n'est pas malade alors qu'il l'est. Par conséquent, on choisirait le classifieur qui fait diminuer le nombre de faux négatif ,c'est à dire MAP2classifieur . \n"
   ]
  },
  {
   "cell_type": "markdown",
   "metadata": {
    "ExecuteTime": {
     "end_time": "2019-02-26T17:42:46.154475Z",
     "start_time": "2019-02-26T17:42:46.135618Z"
    }
   },
   "source": [
    "## Question 4\n",
    "\n",
    "On peut bien sûr se dire que les classifieurs ont intérêt à utiliser le plus d'information possible. Il serait donc pertinent de construire les classifieurs `ML3DClassifier`, `MAP3DClassifier`, ..., `ML14DClassifier` et `MAP14DClassifier` où les \"$x$ `DClassifier`\" prendrait $x-1$ attributs pour construire la prédiction de `target`. Toutefois, un problème va nous arrêter : les tables $P14Da$ et $P14Db$ sont de bien trop grande taille. \n",
    "\n",
    "### Question 4.1 : complexité en mémoire\n",
    "\n",
    "Écrire une fonction `nbrParams` qui calcule la taille mémoire de ces tables $P(target|attr_1,..,attr_k)$ étant donné un dataframe et la liste $[target,attr_1,...,attr_l]$ en supposant qu'un float est représenté sur 8octets."
   ]
  },
  {
   "cell_type": "code",
   "execution_count": 16,
   "metadata": {
    "ExecuteTime": {
     "end_time": "2019-03-06T13:49:45.977586Z",
     "start_time": "2019-03-06T13:49:45.942870Z"
    }
   },
   "outputs": [
    {
     "name": "stdout",
     "output_type": "stream",
     "text": [
      "1 variable(s) = 16 Octets\n",
      "2 variable(s) = 64 Octets\n",
      "2 variable(s) = 208 Octets\n",
      "5 variable(s) = 3328 Octets\n",
      "8 variable(s) = 798720 Octets\n",
      "14 variable(s) = 58657996800 Octets\n"
     ]
    }
   ],
   "source": [
    "projet.nbParams(train,['target'])\n",
    "projet.nbParams(train,['target','thal'])\n",
    "projet.nbParams(train,['target','age'])\n",
    "projet.nbParams(train,['target','age','thal','sex','exang'])\n",
    "projet.nbParams(train,['target','age','thal','sex','exang','slope','ca','chol'])\n",
    "projet.nbParams(train)"
   ]
  },
  {
   "cell_type": "markdown",
   "metadata": {
    "ExecuteTime": {
     "end_time": "2019-02-26T18:01:27.881999Z",
     "start_time": "2019-02-26T18:01:27.849438Z"
    }
   },
   "source": [
    "On ne peut donc pas manipuler de telles tables et il faut trouver de nouvelles façon de représenter les distributions de probabilités, quitte à en faire des approximations. \n",
    "\n",
    "La meilleure façon de simplifier la représentation d'une distribution de probabilité est d'utiliser des hypothèses d'indépendances. Ainsi, dans une loi jointe des variables $A,B,C,D,E$, si on suppose l'indépendance de ces 5 variables, on sait qu'on pourra écrire que $$P(A,B,C,D,E)=P(A)*P(B)*P(C)*P(D)*P(E)$$ et donc remplacer un tableau à 5 dimensions par 5 tableaux monodimensionnels.\n",
    "\n",
    "### Question 4.2 : complexité en mémoire sous hypothèse d'indépendance complète\n",
    "\n",
    "Ecrire une fonction `nbrParamsIndep` qui calcule la taille mémoire nécessaire pour représenter les tables de probabilité étant donné un dataframe, en supposant qu'un float est représenté sur 8octets et **en supposant l'indépendance des variables**."
   ]
  },
  {
   "cell_type": "code",
   "execution_count": 17,
   "metadata": {
    "ExecuteTime": {
     "end_time": "2019-03-06T13:49:46.017675Z",
     "start_time": "2019-03-06T13:49:45.979652Z"
    }
   },
   "outputs": [
    {
     "name": "stdout",
     "output_type": "stream",
     "text": [
      "1 variable(s) = 16 Octets\n",
      "2 variable(s) = 48 Octets\n",
      "2 variable(s) = 120 Octets\n",
      "5 variable(s) = 184 Octets\n",
      "8 variable(s) = 376 Octets\n",
      "14 variable(s) = 800 Octets\n"
     ]
    }
   ],
   "source": [
    "projet.nbParamsIndep(train[['target']])\n",
    "projet.nbParamsIndep(train[['target','thal']])\n",
    "projet.nbParamsIndep(train[['target','age']])\n",
    "projet.nbParamsIndep(train[['target','age','thal','sex','exang']])\n",
    "projet.nbParamsIndep(train[['target','age','thal','sex','exang','slope','ca','chol']])\n",
    "projet.nbParamsIndep(train)"
   ]
  },
  {
   "cell_type": "markdown",
   "metadata": {
    "ExecuteTime": {
     "end_time": "2019-02-26T18:44:09.655041Z",
     "start_time": "2019-02-26T18:44:09.635967Z"
    }
   },
   "source": [
    "### Question 4.3\n",
    "\n",
    "L'indépendance complète comme ci-dessus amène forcément à un classifier a priori (aucun attribut n'apporte d'information sur `target`).\n",
    "\n",
    "Nous allons donc essayer de trouver des modèles supposant une certaine forme d'indépendance partielle qui permettra d'alléger quand même la représentation en mémoire de la distribution de probabilités. Ce sont les indépendances conditionnelles. Si l'on sait par exemple que $A$ est indépendant de $C$ sachant $B$, on peut écrire la loi jointe :\n",
    "$$P(A,B,C)=P(A)*P(B|A)*P(C|B)$$\n",
    "\n",
    "\n",
    "<div style=\"float:left;margin:0 10px 10px 0\">\n",
    "    <img src=\"question.png\">\n",
    "</div>\n",
    "Pouvez vous le prouvez ?"
   ]
  },
  {
   "cell_type": "markdown",
   "metadata": {},
   "source": [
    "$P(A,B,C)=P(A,C|B)*P(B)=P(A|B)*P(C|B)*P(B)=P(B|A)*P(A)*P(C|B)$\n"
   ]
  },
  {
   "cell_type": "markdown",
   "metadata": {
    "ExecuteTime": {
     "end_time": "2019-02-27T07:49:50.004708Z",
     "start_time": "2019-02-27T07:49:49.983730Z"
    }
   },
   "source": [
    "<div style=\"float:left;margin:0 10px 10px 0\">\n",
    "    <img src=\"question.png\">\n",
    "</div>\n",
    "Si les 3 variables $A$, $B$ et $C$ ont $5$ valeurs, quelle est la taille mémoire en octet nécessaire pour représenter cette distribution avec et sans l'utilisation de l'indépendance conditionnelle ?"
   ]
  },
  {
   "cell_type": "markdown",
   "metadata": {},
   "source": [
    "Sans l'indépendance conditionnelle : $5^3*8=1000$ octets\n",
    "Avec l'indépendance conditionnelle: $(2*5^2+5)*8=440$ octets"
   ]
  },
  {
   "cell_type": "markdown",
   "metadata": {},
   "source": [
    "## Question 5 : Modèles graphiques\n",
    "\n",
    "Afin de représenter efficacement les indépendances conditionnelles utilisées pour représenter une distribution jointe de grande taille, on peut utiliser un graphe orienté qui se lit ainsi : dans la décomposition de la loi jointe, chaque variable $X$ apparaitra dans un facteur de la forme $P(X|Parents_X)$.  On note que cette factorisation n'a de sens que si le graphe n'a pas de circuit (c'est un DAG).\n",
    "\n",
    "Ainsi, on représente la factorisation $P(A,B,C)=P(A)*P(B|A)*P(C|B)$ par le graphe suivant : $A$ n'a pas de parent, $B$ a pour parent $A$ et $C$ a pour parent $B$."
   ]
  },
  {
   "cell_type": "code",
   "execution_count": 18,
   "metadata": {
    "ExecuteTime": {
     "end_time": "2019-03-06T13:49:48.405522Z",
     "start_time": "2019-03-06T13:49:46.020616Z"
    }
   },
   "outputs": [
    {
     "data": {
      "image/png": "[encoded data removed]",
      "text/plain": [
       "<IPython.core.display.Image object>"
      ]
     },
     "execution_count": 18,
     "metadata": {},
     "output_type": "execute_result"
    }
   ],
   "source": [
    "utils.drawGraphHorizontal(\"A->B;B->C\")"
   ]
  },
  {
   "cell_type": "markdown",
   "metadata": {
    "ExecuteTime": {
     "end_time": "2019-02-27T08:15:37.441625Z",
     "start_time": "2019-02-27T08:15:35.340898Z"
    }
   },
   "source": [
    "### Question 5.1\n",
    "\n",
    "<div style=\"float:left;margin:0 10px 10px 0\">\n",
    "    <img src=\"question.png\">\n",
    "</div>\n",
    "Dans les 2 cellules suivantes, dessiner les graphes pour 5 variables $A,B,C,D,E$ complètement indépendantes puis pour ces 5 même variables sans aucune indépendance."
   ]
  },
  {
   "cell_type": "code",
   "execution_count": 19,
   "metadata": {
    "ExecuteTime": {
     "end_time": "2019-03-06T13:49:50.639829Z",
     "start_time": "2019-03-06T13:49:48.409421Z"
    }
   },
   "outputs": [
    {
     "data": {
      "image/png": "[encoded data removed]",
      "text/plain": [
       "<IPython.core.display.Image object>"
      ]
     },
     "execution_count": 19,
     "metadata": {},
     "output_type": "execute_result"
    }
   ],
   "source": [
    "utils.drawGraphHorizontal(\"A;B;C;D;E\") # changer la chaîne pour représenter une indépendance complète entre A,B,C,D,E"
   ]
  },
  {
   "cell_type": "code",
   "execution_count": 20,
   "metadata": {
    "ExecuteTime": {
     "end_time": "2019-03-06T13:49:52.845657Z",
     "start_time": "2019-03-06T13:49:50.643516Z"
    }
   },
   "outputs": [
    {
     "data": {
      "image/png": "[encoded data removed]",
      "text/plain": [
       "<IPython.core.display.Image object>"
      ]
     },
     "execution_count": 20,
     "metadata": {},
     "output_type": "execute_result"
    }
   ],
   "source": [
    "utils.drawGraphHorizontal(\"A->B->C->D->E\") # changer la chaîne pour représenter une dépendance complète entre A,B,C,D,E-"
   ]
  },
  {
   "cell_type": "markdown",
   "metadata": {
    "ExecuteTime": {
     "end_time": "2019-02-27T08:24:01.433601Z",
     "start_time": "2019-02-27T08:24:01.398968Z"
    }
   },
   "source": [
    "### Question 5.2 : naïve Bayes\n",
    "\n",
    "Un modèle simple souvent utilisée est le **Naïve Bayes**. Il suppose que $2$ attributs sont toujours indépendants conditionnellement à `target`.\n",
    "\n",
    "Ce modèle est évidemment très simpliste et certainement faux. Toutefois, en classification, il donne souvent de bon résultats."
   ]
  },
  {
   "cell_type": "markdown",
   "metadata": {
    "ExecuteTime": {
     "end_time": "2019-02-27T08:25:22.215498Z",
     "start_time": "2019-02-27T08:25:22.195477Z"
    }
   },
   "source": [
    "<div style=\"float:left;margin:0 10px 10px 0\">\n",
    "    <img src=\"question.png\">\n",
    "</div>\n",
    "Écrire comment se décompose la vraisemblance $P(attr1,attr2,attr3,\\cdots|target)$.\n",
    "\n",
    "Écrire comment se décompole la distribution a posteriori $P(target|attr1,attr2,attr3,\\cdots)$ <em>(ou du moins une fonction proportionnelle à cette distribution a posteriori)</em>."
   ]
  },
  {
   "cell_type": "markdown",
   "metadata": {},
   "source": [
    "\n",
    "\n",
    "\n",
    "$$P(attr1,attr2,attr3,\\cdots|target)=P(attr_1|target)*\\cdots*P(attrn_n|target)$$\n",
    "\n",
    "$$P(target|attr1,attr2,attr3,\\cdots)=P(attr1,attr2,attr3,\\cdots|target)*\\frac{P(target)}{P(attr1,attr2,attr3,\\cdots)} = \\frac{P(attr_1|target)*P(attr2|target)*\\cdots*P(attr_n|target)*P(target)}{P(attr_1,..,attr_n)}$$\n",
    "$$=\\frac{P(attr_1|target)*P(attr2|target)*\\cdots*P(attr_n|target)*P(target)}{P(attr_1,..,attr_n|target=0)P(target=0)+P(attr_1,..,attr_n|target=1)P(target=1)}$$\n",
    "\n",
    "Comme les attributs sont deux à deux indépendants , c'est égale à :\n",
    "\n",
    "\n",
    "$$=\\frac{P(attr_1|target)*P(attr2|target)*\\cdots*P(attr_n|target)*P(target)}{P(attr_1|target=0)*P(attr2|target=0)*\\cdots*P(attr_n|target=0)*P(target=0)+P(attr_1|target=1)*P(attr2|target=1)*\\cdots*P(attr_n|target=1)P(target=1)}$$\n",
    "\n"
   ]
  },
  {
   "cell_type": "markdown",
   "metadata": {
    "ExecuteTime": {
     "end_time": "2019-02-27T08:33:49.190145Z",
     "start_time": "2019-02-27T08:33:49.168724Z"
    }
   },
   "source": [
    "### Question 5.3 : modèle graphique et naïve bayes\n",
    "\n",
    "Un modèle naïve bayes se représente sous la forme d'un graphe où le noeud `target` est l'unique parent de tous les attributs. Construire une fonction `drawNaiveBayes` qui a partir d'un dataframe et du nom de la colonne qui est la classe, dessine le graphe. \n",
    "\n",
    "**Note** : une fonction qui dessine un graphe retourne un appel à `utils.drawGraph`, par exemple :\n",
    "\n",
    "`\n",
    "def dessin_A_vers_B():\n",
    "    return utils.drawGraph(\"A->B\")\n",
    "`"
   ]
  },
  {
   "cell_type": "code",
   "execution_count": 21,
   "metadata": {
    "ExecuteTime": {
     "end_time": "2019-03-06T13:49:55.161368Z",
     "start_time": "2019-03-06T13:49:52.849519Z"
    }
   },
   "outputs": [
    {
     "data": {
      "image/png": "[encoded data removed]",
      "text/plain": [
       "<IPython.core.display.Image object>"
      ]
     },
     "execution_count": 21,
     "metadata": {},
     "output_type": "execute_result"
    }
   ],
   "source": [
    "projet.drawNaiveBayes(train,\"target\")"
   ]
  },
  {
   "cell_type": "markdown",
   "metadata": {},
   "source": [
    "Écrire une fonction `nbrParamsNaiveBayes` qui calcule la taille mémoire nécessaire pour représenter les tables de probabilité étant donné un dataframe, en supposant qu'un float est représenté sur 8octets et **en utilisant l'hypothèse du Naive Bayes**."
   ]
  },
  {
   "cell_type": "code",
   "execution_count": 22,
   "metadata": {
    "ExecuteTime": {
     "end_time": "2019-03-06T13:49:55.203660Z",
     "start_time": "2019-03-06T13:49:55.164457Z"
    }
   },
   "outputs": [
    {
     "name": "stdout",
     "output_type": "stream",
     "text": [
      "0 variable(s) = 16 Octets\n",
      "2 variable(s) = 80 Octets\n",
      "2 variable(s) = 224 Octets\n",
      "5 variable(s) = 352 Octets\n",
      "8 variable(s) = 736 Octets\n",
      "14 variable(s) = 1584 Octets\n"
     ]
    }
   ],
   "source": [
    "projet.nbParamsNaiveBayes(train,'target',[])\n",
    "projet.nbParamsNaiveBayes(train,'target',['target','thal'])\n",
    "projet.nbParamsNaiveBayes(train,'target',['target','age'])\n",
    "projet.nbParamsNaiveBayes(train,'target',['target','age','thal','sex','exang'])\n",
    "projet.nbParamsNaiveBayes(train,'target',['target','age','thal','sex','exang','slope','ca','chol'])\n",
    "projet.nbParamsNaiveBayes(train,'target')"
   ]
  },
  {
   "cell_type": "markdown",
   "metadata": {},
   "source": [
    "On voit que l'augmentation de la mémoire nécessaire est raisonnable."
   ]
  },
  {
   "cell_type": "markdown",
   "metadata": {},
   "source": [
    "### Question 5.4 : classifier naïve bayes\n",
    "\n",
    "Afin de ne pas avoir à réécrire la méthode `statsOnDF` qui ne devrait pas changer, écrire les classes `MLNaiveBayesClassifier` et `MAPNaiveBayesClassifier` qui hérite de `AprioriClassifier` et qui utilise le maximum de vraisemblance (ML) et le maximum a posteriori (MAP) pour estimer la classe d'un individu en utilisant l'hypothèse du Naïve Bayes.\n",
    "\n",
    "De la même façon que plus haut, penser à calculer tous les paramètres du Naïve Bayes dans le constructeur de la classe afin de ne pas les recalculer pour chaque classification.\n",
    "\n",
    "Décomposer la méthodes `estimClass` en 2 parties : `estimProbas` qui calcule la vraisemblance et `estimClass` qui utilise `estimProbas` pour choisir la classe comme dans les classifieurs précédents."
   ]
  },
  {
   "cell_type": "code",
   "execution_count": 23,
   "metadata": {
    "ExecuteTime": {
     "end_time": "2019-03-06T13:49:55.740256Z",
     "start_time": "2019-03-06T13:49:55.205515Z"
    }
   },
   "outputs": [
    {
     "name": "stdout",
     "output_type": "stream",
     "text": [
      "Estimation de la proba de l'individu 0 par MLNaiveBayesClassifier : {0: 5.265474022893807e-11, 1: 8.779438846356187e-12}\n",
      "Estimation de la classe de l'individu 0 par MLNaiveBayesClassifier : 0\n",
      "Estimation de la proba de l'individu 1 par MLNaiveBayesClassifier : {0: 0.0, 1: 1.9903404816168002e-09}\n",
      "Estimation de la classe de l'individu 1 par MLNaiveBayesClassifier : 1\n",
      "Estimation de la proba de l'individu 2 par MLNaiveBayesClassifier : {0: 3.6835223975945704e-10, 1: 1.5920340255297033e-06}\n",
      "Estimation de la classe de l'individu 2 par MLNaiveBayesClassifier : 1\n",
      "test en apprentissage : {'VP': 350, 'VN': 116, 'FP': 22, 'FN': 54, 'rappel': 0.8663366336633663, 'précision': 0.9408602150537635}\n",
      "test en validation: {'VP': 49, 'VN': 60, 'FP': 2, 'FN': 89, 'rappel': 0.35507246376811596, 'précision': 0.9607843137254902}\n"
     ]
    }
   ],
   "source": [
    "cl=projet.MLNaiveBayesClassifier(train)\n",
    "for i in [0,1,2]:\n",
    "    print(\"Estimation de la proba de l'individu {} par MLNaiveBayesClassifier : {}\".format(i,cl.estimProbas(utils.getNthDict(train,i))))\n",
    "    print(\"Estimation de la classe de l'individu {} par MLNaiveBayesClassifier : {}\".format(i,cl.estimClass(utils.getNthDict(train,i)))) \n",
    "print(\"test en apprentissage : {}\".format(cl.statsOnDF(train)))\n",
    "print(\"test en validation: {}\".format(cl.statsOnDF(test)))"
   ]
  },
  {
   "cell_type": "code",
   "execution_count": 24,
   "metadata": {
    "ExecuteTime": {
     "end_time": "2019-03-06T13:49:56.245552Z",
     "start_time": "2019-03-06T13:49:55.742496Z"
    }
   },
   "outputs": [
    {
     "name": "stdout",
     "output_type": "stream",
     "text": [
      "Estimation de la proba de l'individu 0 par MAPNaiveBayesClassifier : {0: 0.6719863008964105, 1: 0.32801369910358946}\n",
      "Estimation de la classe de l'individu 0 par MAPNaiveBayesClassifier : 0\n",
      "Estimation de la proba de l'individu 1 par MAPNaiveBayesClassifier : {0: 0.0, 1: 1.0}\n",
      "Estimation de la classe de l'individu 1 par MAPNaiveBayesClassifier : 1\n",
      "Estimation de la proba de l'individu 2 par MAPNaiveBayesClassifier : {0: 7.90267948988375e-05, 1: 0.9999209732051012}\n",
      "Estimation de la classe de l'individu 2 par MAPNaiveBayesClassifier : 1\n",
      "test en apprentissage : {'VP': 382, 'VN': 111, 'FP': 27, 'FN': 22, 'rappel': 0.9455445544554455, 'précision': 0.9339853300733496}\n",
      "test en validation: {'VP': 53, 'VN': 57, 'FP': 5, 'FN': 85, 'rappel': 0.38405797101449274, 'précision': 0.9137931034482759}\n"
     ]
    }
   ],
   "source": [
    "cl=projet.MAPNaiveBayesClassifier(train)\n",
    "for i in [0,1,2]:\n",
    "    print(\"Estimation de la proba de l'individu {} par MAPNaiveBayesClassifier : {}\".format(i,cl.estimProbas(utils.getNthDict(train,i))))\n",
    "    print(\"Estimation de la classe de l'individu {} par MAPNaiveBayesClassifier : {}\".format(i,cl.estimClass(utils.getNthDict(train,i)))) \n",
    "print(\"test en apprentissage : {}\".format(cl.statsOnDF(train)))\n",
    "print(\"test en validation: {}\".format(cl.statsOnDF(test)))"
   ]
  },
  {
   "cell_type": "markdown",
   "metadata": {},
   "source": [
    "## Question 6 : <em>feature selection</em> dans le cadre du classifier naive bayes\n",
    "\n",
    "Il est possible qu'un attribut de la base ne soit pas important pour estimer la classe d'un individu. Dans le cadre du Naïve Bayes, un tel noeud se reconnaît car il est indépendant de `target`. Un tel noeud peut être supprimé du Naïve Bayes.\n",
    "\n",
    "Écrire une fonction `isIndepFromTarget(df,attr,x)` qui vérifie si `attr` est indépendant de `target` au seuil de x%.\n",
    "\n",
    "*Note* : vous avez le droit d'utiliser `scipy.stats.chi2_contingency` dans cette fonction."
   ]
  },
  {
   "cell_type": "code",
   "execution_count": 25,
   "metadata": {
    "ExecuteTime": {
     "end_time": "2019-03-06T13:49:56.401805Z",
     "start_time": "2019-03-06T13:49:56.247589Z"
    }
   },
   "outputs": [
    {
     "name": "stdout",
     "output_type": "stream",
     "text": [
      "target independant de age ? no\n",
      "target independant de sex ? no\n",
      "target independant de cp ? no\n",
      "target independant de trestbps ? **YES**\n",
      "target independant de chol ? no\n",
      "target independant de fbs ? **YES**\n",
      "target independant de restecg ? no\n",
      "target independant de thalach ? no\n",
      "target independant de exang ? no\n",
      "target independant de oldpeak ? no\n",
      "target independant de slope ? no\n",
      "target independant de ca ? no\n",
      "target independant de thal ? no\n"
     ]
    }
   ],
   "source": [
    "for attr in train.keys():\n",
    "    if attr!='target':\n",
    "        print(\"target independant de {} ? {}\".format(attr,\"**YES**\" if projet.isIndepFromTarget(train,attr,0.01) else \"no\"))"
   ]
  },
  {
   "cell_type": "markdown",
   "metadata": {},
   "source": [
    "Proposer des classifieurs `ReducedMLNaiveBayesClassifier` et `ReducedMAPNaiveBayesClassifier` qui utilisent le maximum de vraisemblance (ML) et le maximum a posteriori (MAP) pour estimer la classe d'un individu sur un modèle Naïve Bayes qu'ils auront préalablement optimisé grâce à des tests d'indépendance au seuil de $x\\%$ (donné en paramètre du constructeur). Rajouter une méthode `ReducedMAPNaiveBayesClassifier.draw` afin de pouvoir dessiner le Naïve Bayes réduit effectivement utilisé. "
   ]
  },
  {
   "cell_type": "code",
   "execution_count": 26,
   "metadata": {
    "ExecuteTime": {
     "end_time": "2019-03-06T13:49:58.830807Z",
     "start_time": "2019-03-06T13:49:56.403652Z"
    }
   },
   "outputs": [
    {
     "data": {
      "image/png": "[encoded data removed]",
      "text/plain": [
       "<IPython.core.display.Image object>"
      ]
     },
     "execution_count": 26,
     "metadata": {},
     "output_type": "execute_result"
    }
   ],
   "source": [
    "cl=projet.ReducedMLNaiveBayesClassifier(train,0.05)\n",
    "cl.draw()"
   ]
  },
  {
   "cell_type": "code",
   "execution_count": 27,
   "metadata": {
    "ExecuteTime": {
     "end_time": "2019-03-06T13:50:01.297018Z",
     "start_time": "2019-03-06T13:49:58.834448Z"
    }
   },
   "outputs": [
    {
     "data": {
      "image/png": "[encoded data removed]",
      "text/plain": [
       "<IPython.core.display.Image object>"
      ]
     },
     "execution_count": 27,
     "metadata": {},
     "output_type": "execute_result"
    }
   ],
   "source": [
    "cl=projet.ReducedMLNaiveBayesClassifier(train,0.01)\n",
    "cl.draw()"
   ]
  },
  {
   "cell_type": "code",
   "execution_count": 28,
   "metadata": {
    "ExecuteTime": {
     "end_time": "2019-03-06T13:50:01.745939Z",
     "start_time": "2019-03-06T13:50:01.300452Z"
    }
   },
   "outputs": [
    {
     "name": "stdout",
     "output_type": "stream",
     "text": [
      "Estimation de la proba de l'individu 0 par MAPNaiveBayesClassifier : {0: 5.697482232499412e-09, 1: 2.138723717532643e-09}\n",
      "Estimation de la classe de l'individu 0 par MAPNaiveBayesClassifier : 0\n",
      "Estimation de la proba de l'individu 1 par MAPNaiveBayesClassifier : {0: 0.0, 1: 1.1475745797921708e-08}\n",
      "Estimation de la classe de l'individu 1 par MAPNaiveBayesClassifier : 1\n",
      "Estimation de la proba de l'individu 2 par MAPNaiveBayesClassifier : {0: 2.7487852876093664e-09, 1: 9.179222322695213e-06}\n",
      "Estimation de la classe de l'individu 2 par MAPNaiveBayesClassifier : 1\n",
      "test en apprentissage : {'VP': 348, 'VN': 117, 'FP': 21, 'FN': 56, 'rappel': 0.8613861386138614, 'précision': 0.943089430894309}\n",
      "test en validation: {'VP': 49, 'VN': 61, 'FP': 1, 'FN': 89, 'rappel': 0.35507246376811596, 'précision': 0.98}\n"
     ]
    }
   ],
   "source": [
    "for i in [0,1,2]:\n",
    "    print(\"Estimation de la proba de l'individu {} par MAPNaiveBayesClassifier : {}\".format(i,cl.estimProbas(utils.getNthDict(train,i))))\n",
    "    print(\"Estimation de la classe de l'individu {} par MAPNaiveBayesClassifier : {}\".format(i,cl.estimClass(utils.getNthDict(train,i)))) \n",
    "print(\"test en apprentissage : {}\".format(cl.statsOnDF(train)))\n",
    "print(\"test en validation: {}\".format(cl.statsOnDF(test)))"
   ]
  },
  {
   "cell_type": "code",
   "execution_count": 29,
   "metadata": {
    "ExecuteTime": {
     "end_time": "2019-03-06T13:50:04.184020Z",
     "start_time": "2019-03-06T13:50:01.747711Z"
    }
   },
   "outputs": [
    {
     "data": {
      "image/png": "[encoded data removed]",
      "text/plain": [
       "<IPython.core.display.Image object>"
      ]
     },
     "execution_count": 29,
     "metadata": {},
     "output_type": "execute_result"
    }
   ],
   "source": [
    "cl=projet.ReducedMAPNaiveBayesClassifier(train,0.01)\n",
    "cl.draw()"
   ]
  },
  {
   "cell_type": "code",
   "execution_count": 30,
   "metadata": {
    "ExecuteTime": {
     "end_time": "2019-03-06T13:50:04.613991Z",
     "start_time": "2019-03-06T13:50:04.187933Z"
    }
   },
   "outputs": [
    {
     "name": "stdout",
     "output_type": "stream",
     "text": [
      "Estimation de la proba de l'individu 0 par MAPNaiveBayesClassifier : {0: 0.47643095845795086, 1: 0.5235690415420491}\n",
      "Estimation de la classe de l'individu 0 par MAPNaiveBayesClassifier : 1\n",
      "Estimation de la proba de l'individu 1 par MAPNaiveBayesClassifier : {0: 0.0, 1: 1.0}\n",
      "Estimation de la classe de l'individu 1 par MAPNaiveBayesClassifier : 1\n",
      "Estimation de la proba de l'individu 2 par MAPNaiveBayesClassifier : {0: 0.00010227941341238206, 1: 0.9998977205865877}\n",
      "Estimation de la classe de l'individu 2 par MAPNaiveBayesClassifier : 1\n",
      "test en apprentissage : {'VP': 375, 'VN': 110, 'FP': 28, 'FN': 29, 'rappel': 0.9282178217821783, 'précision': 0.9305210918114144}\n",
      "test en validation: {'VP': 53, 'VN': 56, 'FP': 6, 'FN': 85, 'rappel': 0.38405797101449274, 'précision': 0.8983050847457628}\n"
     ]
    }
   ],
   "source": [
    "for i in [0,1,2]:\n",
    "    print(\"Estimation de la proba de l'individu {} par MAPNaiveBayesClassifier : {}\".format(i,cl.estimProbas(utils.getNthDict(train,i))))\n",
    "    print(\"Estimation de la classe de l'individu {} par MAPNaiveBayesClassifier : {}\".format(i,cl.estimClass(utils.getNthDict(train,i)))) \n",
    "print(\"test en apprentissage : {}\".format(cl.statsOnDF(train)))\n",
    "print(\"test en validation: {}\".format(cl.statsOnDF(test)))"
   ]
  },
  {
   "cell_type": "markdown",
   "metadata": {},
   "source": [
    "## Question 7 : évaluation des classifieurs\n",
    "\n",
    "Nous commençons à avoir pas mal de classifieurs. Pour les comparer, une possibilité est d'utiliser la représentation graphique des points $(précision,rappel)$ de chacun."
   ]
  },
  {
   "cell_type": "markdown",
   "metadata": {},
   "source": [
    "### Question 7.1\n",
    "\n",
    "<div style=\"float:left;margin:0 10px 10px 0\">\n",
    "    <img src=\"question.png\">\n",
    "</div>\n",
    "Où se trouve à votre avis le point idéal ? Comment pourriez-vous proposer de comparer les différents classifieurs dans cette représentation graphique ?"
   ]
  },
  {
   "cell_type": "markdown",
   "metadata": {},
   "source": []
  },
  {
   "cell_type": "markdown",
   "metadata": {
    "ExecuteTime": {
     "end_time": "2019-03-06T13:28:47.631486Z",
     "start_time": "2019-03-06T13:28:47.605743Z"
    }
   },
   "source": [
    "### Question 7.2 \n",
    "\n",
    "Ecrire une fonction `mapClassifiers(dic,df)` qui, à partir d'un dictionnaire `dic` de `{nom:instance de classifier}` et d'un dataframe `df`, représente graphiquement ces classifiers dans l'espace $(précision,rappel)$."
   ]
  },
  {
   "cell_type": "code",
   "execution_count": 31,
   "metadata": {
    "ExecuteTime": {
     "end_time": "2019-03-06T13:50:06.566090Z",
     "start_time": "2019-03-06T13:50:04.616452Z"
    }
   },
   "outputs": [
    {
     "data": {
      "image/png": "[encoded data removed]",
      "text/plain": [
       "<Figure size 432x288 with 1 Axes>"
      ]
     },
     "metadata": {
      "needs_background": "light"
     },
     "output_type": "display_data"
    }
   ],
   "source": [
    "projet.mapClassifiers({\"1\":projet.APrioriClassifier(),\n",
    "                \"2\":projet.ML2DClassifier(train,\"exang\"),\n",
    "                \"3\":projet.MAP2DClassifier(train,\"exang\"),\n",
    "                \"4\":projet.MAPNaiveBayesClassifier(train),\n",
    "                \"5\":projet.MLNaiveBayesClassifier(train),\n",
    "                \"6\":projet.ReducedMAPNaiveBayesClassifier(train,0.01),\n",
    "                \"7\":projet.ReducedMLNaiveBayesClassifier(train,0.01),\n",
    "               },train)"
   ]
  },
  {
   "cell_type": "code",
   "execution_count": 32,
   "metadata": {
    "ExecuteTime": {
     "end_time": "2019-03-06T13:50:07.641864Z",
     "start_time": "2019-03-06T13:50:06.570673Z"
    }
   },
   "outputs": [
    {
     "data": {
      "image/png": "[encoded data removed]",
      "text/plain": [
       "<Figure size 432x288 with 1 Axes>"
      ]
     },
     "metadata": {
      "needs_background": "light"
     },
     "output_type": "display_data"
    }
   ],
   "source": [
    "projet.mapClassifiers({\"1\":projet.APrioriClassifier(),\n",
    "                \"2\":projet.ML2DClassifier(train,\"exang\"),\n",
    "                \"3\":projet.MAP2DClassifier(train,\"exang\"),\n",
    "                \"4\":projet.MAPNaiveBayesClassifier(train),\n",
    "                \"5\":projet.MLNaiveBayesClassifier(train),\n",
    "                \"6\":projet.ReducedMAPNaiveBayesClassifier(train,0.01),\n",
    "                \"7\":projet.ReducedMLNaiveBayesClassifier(train,0.01),\n",
    "               },test)"
   ]
  },
  {
   "cell_type": "code",
   "execution_count": null,
   "metadata": {},
   "outputs": [],
   "source": []
  },
  {
   "cell_type": "code",
   "execution_count": null,
   "metadata": {},
   "outputs": [],
   "source": []
  }
 ],
 "metadata": {
  "hide_input": false,
  "kernelspec": {
   "display_name": "Python 3",
   "language": "python",
   "name": "python3"
  },
  "language_info": {
   "codemirror_mode": {
    "name": "ipython",
    "version": 3
   },
   "file_extension": ".py",
   "mimetype": "text/x-python",
   "name": "python",
   "nbconvert_exporter": "python",
   "pygments_lexer": "ipython3",
   "version": "3.7.1"
  }
 },
 "nbformat": 4,
 "nbformat_minor": 2
}
